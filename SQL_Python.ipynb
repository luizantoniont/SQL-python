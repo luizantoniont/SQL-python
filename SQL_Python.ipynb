{
  "nbformat": 4,
  "nbformat_minor": 0,
  "metadata": {
    "colab": {
      "provenance": []
    },
    "kernelspec": {
      "name": "python3",
      "display_name": "Python 3"
    },
    "language_info": {
      "name": "python"
    }
  },
  "cells": [
    {
      "cell_type": "code",
      "execution_count": null,
      "metadata": {
        "id": "M-4iebOq0Ko6"
      },
      "outputs": [],
      "source": [
        "import sqlite3\n",
        "import pandas as pd\n"
      ]
    },
    {
      "cell_type": "code",
      "source": [
        "con = sqlite3.connect('cap12_dsa.db')"
      ],
      "metadata": {
        "id": "2DXeQVZA3t3o"
      },
      "execution_count": null,
      "outputs": []
    },
    {
      "cell_type": "code",
      "source": [
        "cursor = con.cursor()"
      ],
      "metadata": {
        "id": "RFX_9mEX5hww"
      },
      "execution_count": null,
      "outputs": []
    },
    {
      "cell_type": "code",
      "source": [
        "sql_query = \"\"\"SELECT name FROM sqlite_master WHERE type = 'table';\"\"\""
      ],
      "metadata": {
        "id": "5t1zCypD5n0u"
      },
      "execution_count": null,
      "outputs": []
    },
    {
      "cell_type": "code",
      "source": [
        "cursor.execute(sql_query)"
      ],
      "metadata": {
        "id": "JCyrsvIv6H1e"
      },
      "execution_count": null,
      "outputs": []
    },
    {
      "cell_type": "code",
      "source": [
        "print(cursor.fetchall())"
      ],
      "metadata": {
        "id": "9gUlJ6BJ6Pob"
      },
      "execution_count": null,
      "outputs": []
    },
    {
      "cell_type": "code",
      "source": [
        "query1 = 'SELECT * FROM tb_vendas_dsa'"
      ],
      "metadata": {
        "id": "qsRd7bQW6Y1o"
      },
      "execution_count": null,
      "outputs": []
    },
    {
      "cell_type": "code",
      "source": [
        "cursor.execute(query1)"
      ],
      "metadata": {
        "id": "wo6WaCiT7CfZ"
      },
      "execution_count": null,
      "outputs": []
    },
    {
      "cell_type": "code",
      "source": [
        "nomes_colunas = [description[0] for description in cursor.description]"
      ],
      "metadata": {
        "id": "PnKEKKbX7KB9"
      },
      "execution_count": null,
      "outputs": []
    },
    {
      "cell_type": "code",
      "source": [
        "print(nomes_colunas)"
      ],
      "metadata": {
        "id": "f94KIN2u7jeG"
      },
      "execution_count": null,
      "outputs": []
    },
    {
      "cell_type": "code",
      "source": [
        "dados = cursor.fetchall()"
      ],
      "metadata": {
        "id": "19LpsQj37lpf"
      },
      "execution_count": null,
      "outputs": []
    },
    {
      "cell_type": "code",
      "source": [
        "dados"
      ],
      "metadata": {
        "id": "62g2LE367uwG"
      },
      "execution_count": null,
      "outputs": []
    },
    {
      "cell_type": "code",
      "source": [
        "query2 = 'SELECT AVG(Unidades_Vendidas) FROM tb_vendas_dsa'"
      ],
      "metadata": {
        "id": "Of_6lItV7wDg"
      },
      "execution_count": null,
      "outputs": []
    },
    {
      "cell_type": "code",
      "source": [
        "cursor.execute(query2)"
      ],
      "metadata": {
        "id": "hUSUxz758SxX"
      },
      "execution_count": null,
      "outputs": []
    },
    {
      "cell_type": "code",
      "source": [
        "print(cursor.fetchall())"
      ],
      "metadata": {
        "id": "UrfrFI_S8YNN"
      },
      "execution_count": null,
      "outputs": []
    },
    {
      "cell_type": "code",
      "source": [
        "query3 = 'SELECT Nome_Produto, AVG(Unidades_Vendidas) FROM tb_vendas_dsa GROUP BY Nome_Produto'"
      ],
      "metadata": {
        "id": "xp1V-rmT8cx3"
      },
      "execution_count": null,
      "outputs": []
    },
    {
      "cell_type": "code",
      "source": [
        "cursor.execute(query3)"
      ],
      "metadata": {
        "id": "tOOOn5RZ9Ngc"
      },
      "execution_count": null,
      "outputs": []
    },
    {
      "cell_type": "code",
      "source": [
        "cursor.fetchall()"
      ],
      "metadata": {
        "id": "jdhpy5ze9S0E"
      },
      "execution_count": null,
      "outputs": []
    },
    {
      "cell_type": "code",
      "source": [
        "query4 = \"\"\"SELECT Nome_Produto, AVG(Unidades_Vendidas)\n",
        "          FROM tb_vendas_dsa\n",
        "          WHERE Valor_Unitario > 199\n",
        "          GROUP BY Nome_Produto\"\"\"\n"
      ],
      "metadata": {
        "id": "MRp2F9r99WnM"
      },
      "execution_count": null,
      "outputs": []
    },
    {
      "cell_type": "code",
      "source": [
        "cursor.execute(query4)"
      ],
      "metadata": {
        "id": "Af-0li_TB-UY"
      },
      "execution_count": null,
      "outputs": []
    },
    {
      "cell_type": "code",
      "source": [
        "cursor.fetchall()"
      ],
      "metadata": {
        "id": "iwprvtiqCXt8"
      },
      "execution_count": null,
      "outputs": []
    },
    {
      "cell_type": "code",
      "source": [
        "query5 = \"\"\"SELECT Nome_Produto, AVG(Unidades_Vendidas)\n",
        "          FROM tb_vendas_dsa\n",
        "          WHERE Valor_Unitario > 199\n",
        "          GROUP BY Nome_Produto\n",
        "          HAVING AVG(Unidades_Vendidas) > 10\"\"\""
      ],
      "metadata": {
        "id": "ePvf8bwfCldD"
      },
      "execution_count": null,
      "outputs": []
    },
    {
      "cell_type": "code",
      "source": [
        "cursor.execute(query5)"
      ],
      "metadata": {
        "id": "q_h_PxCfEA9Z"
      },
      "execution_count": null,
      "outputs": []
    },
    {
      "cell_type": "code",
      "source": [
        "cursor.fetchall()"
      ],
      "metadata": {
        "id": "0Zvk1UfFEE5R"
      },
      "execution_count": null,
      "outputs": []
    },
    {
      "cell_type": "code",
      "source": [
        "cursor.close()\n",
        "con.close()"
      ],
      "metadata": {
        "id": "doeLzm7rEKND"
      },
      "execution_count": null,
      "outputs": []
    },
    {
      "cell_type": "code",
      "source": [
        "con = sqlite3.connect('cap12_dsa.db')"
      ],
      "metadata": {
        "id": "5iJM25jcETLA"
      },
      "execution_count": null,
      "outputs": []
    },
    {
      "cell_type": "code",
      "source": [
        "cursor = con.cursor()"
      ],
      "metadata": {
        "id": "-kA1FezsEsY6"
      },
      "execution_count": null,
      "outputs": []
    },
    {
      "cell_type": "code",
      "source": [
        "query = 'SELECT * FROM tb_vendas_dsa'"
      ],
      "metadata": {
        "id": "4io4O8AOEvzK"
      },
      "execution_count": null,
      "outputs": []
    },
    {
      "cell_type": "code",
      "source": [
        "cursor.execute(query)"
      ],
      "metadata": {
        "id": "ATRc-RNUFwuM"
      },
      "execution_count": null,
      "outputs": []
    },
    {
      "cell_type": "code",
      "source": [
        "dados = cursor.fetchall()"
      ],
      "metadata": {
        "id": "pNSxUaf6F1oh"
      },
      "execution_count": null,
      "outputs": []
    },
    {
      "cell_type": "code",
      "source": [
        "dados"
      ],
      "metadata": {
        "id": "qTgvphezGALB"
      },
      "execution_count": null,
      "outputs": []
    },
    {
      "cell_type": "code",
      "source": [
        "df = pd.DataFrame(dados, columns = ['ID_PEdiddo',\n",
        "                                    'ID_Cliente',\n",
        "                                    'Nome_Produto',\n",
        "                                    'Valor_Unitario',\n",
        "                                    'Unidades_Vendidas',\n",
        "                                    'Custo'])"
      ],
      "metadata": {
        "id": "EB-2tUyhGBP6"
      },
      "execution_count": null,
      "outputs": []
    },
    {
      "cell_type": "code",
      "source": [
        "df.head()"
      ],
      "metadata": {
        "id": "2LZIPiwNHHt5"
      },
      "execution_count": null,
      "outputs": []
    },
    {
      "cell_type": "code",
      "source": [
        "cursor.close()\n",
        "con.close()"
      ],
      "metadata": {
        "id": "AcwHb-gHHKjJ"
      },
      "execution_count": null,
      "outputs": []
    },
    {
      "cell_type": "code",
      "source": [
        "media_unidades_vendidas = df['Unidades_Vendidas'].mean()"
      ],
      "metadata": {
        "id": "LqrDGGjAHRzA"
      },
      "execution_count": null,
      "outputs": []
    },
    {
      "cell_type": "code",
      "source": [
        "print(media_unidades_vendidas)"
      ],
      "metadata": {
        "id": "rlucYkhZHkKl"
      },
      "execution_count": null,
      "outputs": []
    },
    {
      "cell_type": "code",
      "source": [
        "media_unidades_vendidas_por_produto = df.groupby('Nome_Produto')['Unidades_Vendidas'].mean()"
      ],
      "metadata": {
        "id": "vazuruqnHok0"
      },
      "execution_count": null,
      "outputs": []
    },
    {
      "cell_type": "code",
      "source": [
        "print(media_unidades_vendidas_por_produto.head(10))"
      ],
      "metadata": {
        "id": "SgwKR_WxIc-h"
      },
      "execution_count": null,
      "outputs": []
    },
    {
      "cell_type": "code",
      "source": [
        "df[df['Valor_Unitario'] > 199].groupby('Nome_Produto')['Unidades_Vendidas'].mean()"
      ],
      "metadata": {
        "id": "IzqsfKN2Iry1"
      },
      "execution_count": null,
      "outputs": []
    },
    {
      "cell_type": "code",
      "source": [
        "df[df['Valor_Unitario'] > 199].groupby('Nome_Produto').filter(lambda x: x['Unidades_Vendidas'].mean() > 10)"
      ],
      "metadata": {
        "id": "fbRBK4KbJeIx"
      },
      "execution_count": null,
      "outputs": []
    },
    {
      "cell_type": "code",
      "source": [
        "df[df['Valor_Unitario'] > 199].groupby('Nome_Produto') \\\n",
        "                              .filter(lambda x: x['Unidades_Vendidas'].mean() > 10) \\\n",
        "                              .groupby('Nome_Produto')['Unidades_Vendidas'].mean()"
      ],
      "metadata": {
        "id": "Ue4_qzKaKLFx"
      },
      "execution_count": null,
      "outputs": []
    }
  ]
}